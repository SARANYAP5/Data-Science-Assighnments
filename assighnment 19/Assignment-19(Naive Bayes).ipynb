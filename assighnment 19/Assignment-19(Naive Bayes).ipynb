{
 "cells": [
  {
   "cell_type": "markdown",
   "id": "93921084-381e-4f3a-b177-49d22206ff71",
   "metadata": {},
   "source": [
    "Naive Bayes"
   ]
  },
  {
   "cell_type": "markdown",
   "id": "9e4215a6-b345-4867-8da4-8aa5ab86cc5c",
   "metadata": {},
   "source": [
    "The Naive Bayes classifier is a probabilistic machine learning model used for classification tasks. It is based on Bayes' theorem, with the \"naive\" assumption that features (or predictors) are independent given the class. Despite this often unrealistic assumption of feature independence, Naive Bayes classifiers perform surprisingly well in many real-world applications, particularly in text classification and natural language processing."
   ]
  },
  {
   "cell_type": "markdown",
   "id": "d24ea344-231f-4cba-812e-9092cd309cee",
   "metadata": {},
   "source": [
    "1. Data Exploration and Preprocessing"
   ]
  },
  {
   "cell_type": "code",
   "execution_count": 20,
   "id": "0b5aeddf-054c-4a2d-8b6d-19a72776d206",
   "metadata": {},
   "outputs": [
    {
     "name": "stderr",
     "output_type": "stream",
     "text": [
      "[nltk_data] Downloading package punkt to\n",
      "[nltk_data]     C:\\Users\\Administrator\\AppData\\Roaming\\nltk_data...\n",
      "[nltk_data]   Package punkt is already up-to-date!\n",
      "[nltk_data] Downloading package stopwords to\n",
      "[nltk_data]     C:\\Users\\Administrator\\AppData\\Roaming\\nltk_data...\n",
      "[nltk_data]   Package stopwords is already up-to-date!\n"
     ]
    },
    {
     "data": {
      "text/plain": [
       "True"
      ]
     },
     "execution_count": 20,
     "metadata": {},
     "output_type": "execute_result"
    }
   ],
   "source": [
    "import warnings \n",
    "warnings.filterwarnings('ignore')\n",
    "\n",
    "import pandas as pd\n",
    "import matplotlib.pyplot as plt \n",
    "import seaborn as sns\n",
    "import numpy as np\n",
    "\n",
    "from sklearn.model_selection import train_test_split\n",
    "from sklearn.naive_bayes import MultinomialNB\n",
    "from sklearn.metrics import accuracy_score, classification_report, confusion_matrix\n",
    "\n",
    "import string\n",
    "from nltk.corpus import stopwords\n",
    "from nltk.tokenize import word_tokenize\n",
    "from sklearn.feature_extraction.text import TfidfVectorizer\n",
    "\n",
    "# Download NLTK data files (run this once)\n",
    "import nltk\n",
    "nltk.download('punkt')\n",
    "nltk.download('stopwords')\n"
   ]
  },
  {
   "cell_type": "code",
   "execution_count": 21,
   "id": "15b614a6-b896-419d-bc47-ec93d87a8864",
   "metadata": {},
   "outputs": [
    {
     "data": {
      "text/html": [
       "<div>\n",
       "<style scoped>\n",
       "    .dataframe tbody tr th:only-of-type {\n",
       "        vertical-align: middle;\n",
       "    }\n",
       "\n",
       "    .dataframe tbody tr th {\n",
       "        vertical-align: top;\n",
       "    }\n",
       "\n",
       "    .dataframe thead th {\n",
       "        text-align: right;\n",
       "    }\n",
       "</style>\n",
       "<table border=\"1\" class=\"dataframe\">\n",
       "  <thead>\n",
       "    <tr style=\"text-align: right;\">\n",
       "      <th></th>\n",
       "      <th>Unnamed: 0</th>\n",
       "      <th>Data</th>\n",
       "      <th>Labels</th>\n",
       "    </tr>\n",
       "  </thead>\n",
       "  <tbody>\n",
       "    <tr>\n",
       "      <th>0</th>\n",
       "      <td>0</td>\n",
       "      <td>Xref: cantaloupe.srv.cs.cmu.edu alt.atheism:49...</td>\n",
       "      <td>alt.atheism</td>\n",
       "    </tr>\n",
       "    <tr>\n",
       "      <th>1</th>\n",
       "      <td>1</td>\n",
       "      <td>Xref: cantaloupe.srv.cs.cmu.edu alt.atheism:51...</td>\n",
       "      <td>alt.atheism</td>\n",
       "    </tr>\n",
       "    <tr>\n",
       "      <th>2</th>\n",
       "      <td>2</td>\n",
       "      <td>Newsgroups: alt.atheism\\nPath: cantaloupe.srv....</td>\n",
       "      <td>alt.atheism</td>\n",
       "    </tr>\n",
       "    <tr>\n",
       "      <th>3</th>\n",
       "      <td>3</td>\n",
       "      <td>Xref: cantaloupe.srv.cs.cmu.edu alt.atheism:51...</td>\n",
       "      <td>alt.atheism</td>\n",
       "    </tr>\n",
       "    <tr>\n",
       "      <th>4</th>\n",
       "      <td>4</td>\n",
       "      <td>Xref: cantaloupe.srv.cs.cmu.edu alt.atheism:51...</td>\n",
       "      <td>alt.atheism</td>\n",
       "    </tr>\n",
       "    <tr>\n",
       "      <th>...</th>\n",
       "      <td>...</td>\n",
       "      <td>...</td>\n",
       "      <td>...</td>\n",
       "    </tr>\n",
       "    <tr>\n",
       "      <th>19992</th>\n",
       "      <td>19992</td>\n",
       "      <td>Xref: cantaloupe.srv.cs.cmu.edu alt.atheism:54...</td>\n",
       "      <td>talk.religion.misc</td>\n",
       "    </tr>\n",
       "    <tr>\n",
       "      <th>19993</th>\n",
       "      <td>19993</td>\n",
       "      <td>Xref: cantaloupe.srv.cs.cmu.edu alt.atheism:54...</td>\n",
       "      <td>talk.religion.misc</td>\n",
       "    </tr>\n",
       "    <tr>\n",
       "      <th>19994</th>\n",
       "      <td>19994</td>\n",
       "      <td>Xref: cantaloupe.srv.cs.cmu.edu talk.religion....</td>\n",
       "      <td>talk.religion.misc</td>\n",
       "    </tr>\n",
       "    <tr>\n",
       "      <th>19995</th>\n",
       "      <td>19995</td>\n",
       "      <td>Xref: cantaloupe.srv.cs.cmu.edu talk.religion....</td>\n",
       "      <td>talk.religion.misc</td>\n",
       "    </tr>\n",
       "    <tr>\n",
       "      <th>19996</th>\n",
       "      <td>19996</td>\n",
       "      <td>Xref: cantaloupe.srv.cs.cmu.edu talk.abortion:...</td>\n",
       "      <td>talk.religion.misc</td>\n",
       "    </tr>\n",
       "  </tbody>\n",
       "</table>\n",
       "<p>19997 rows × 3 columns</p>\n",
       "</div>"
      ],
      "text/plain": [
       "       Unnamed: 0                                               Data  \\\n",
       "0               0  Xref: cantaloupe.srv.cs.cmu.edu alt.atheism:49...   \n",
       "1               1  Xref: cantaloupe.srv.cs.cmu.edu alt.atheism:51...   \n",
       "2               2  Newsgroups: alt.atheism\\nPath: cantaloupe.srv....   \n",
       "3               3  Xref: cantaloupe.srv.cs.cmu.edu alt.atheism:51...   \n",
       "4               4  Xref: cantaloupe.srv.cs.cmu.edu alt.atheism:51...   \n",
       "...           ...                                                ...   \n",
       "19992       19992  Xref: cantaloupe.srv.cs.cmu.edu alt.atheism:54...   \n",
       "19993       19993  Xref: cantaloupe.srv.cs.cmu.edu alt.atheism:54...   \n",
       "19994       19994  Xref: cantaloupe.srv.cs.cmu.edu talk.religion....   \n",
       "19995       19995  Xref: cantaloupe.srv.cs.cmu.edu talk.religion....   \n",
       "19996       19996  Xref: cantaloupe.srv.cs.cmu.edu talk.abortion:...   \n",
       "\n",
       "                   Labels  \n",
       "0             alt.atheism  \n",
       "1             alt.atheism  \n",
       "2             alt.atheism  \n",
       "3             alt.atheism  \n",
       "4             alt.atheism  \n",
       "...                   ...  \n",
       "19992  talk.religion.misc  \n",
       "19993  talk.religion.misc  \n",
       "19994  talk.religion.misc  \n",
       "19995  talk.religion.misc  \n",
       "19996  talk.religion.misc  \n",
       "\n",
       "[19997 rows x 3 columns]"
      ]
     },
     "execution_count": 21,
     "metadata": {},
     "output_type": "execute_result"
    }
   ],
   "source": [
    "data=pd.read_csv(r\"blogs_categories.csv\")\n",
    "data"
   ]
  },
  {
   "cell_type": "code",
   "execution_count": 22,
   "id": "3e507e9c-9369-4b16-8b20-7c7ad13c09d3",
   "metadata": {},
   "outputs": [
    {
     "name": "stdout",
     "output_type": "stream",
     "text": [
      "<class 'pandas.core.frame.DataFrame'>\n",
      "RangeIndex: 19997 entries, 0 to 19996\n",
      "Data columns (total 3 columns):\n",
      " #   Column      Non-Null Count  Dtype \n",
      "---  ------      --------------  ----- \n",
      " 0   Unnamed: 0  19997 non-null  int64 \n",
      " 1   Data        19997 non-null  object\n",
      " 2   Labels      19997 non-null  object\n",
      "dtypes: int64(1), object(2)\n",
      "memory usage: 468.8+ KB\n"
     ]
    }
   ],
   "source": [
    "data.info()"
   ]
  },
  {
   "cell_type": "code",
   "execution_count": 23,
   "id": "bc0ee1af-9925-4264-952f-25f5329295c8",
   "metadata": {},
   "outputs": [
    {
     "data": {
      "text/html": [
       "<div>\n",
       "<style scoped>\n",
       "    .dataframe tbody tr th:only-of-type {\n",
       "        vertical-align: middle;\n",
       "    }\n",
       "\n",
       "    .dataframe tbody tr th {\n",
       "        vertical-align: top;\n",
       "    }\n",
       "\n",
       "    .dataframe thead th {\n",
       "        text-align: right;\n",
       "    }\n",
       "</style>\n",
       "<table border=\"1\" class=\"dataframe\">\n",
       "  <thead>\n",
       "    <tr style=\"text-align: right;\">\n",
       "      <th></th>\n",
       "      <th>Unnamed: 0</th>\n",
       "    </tr>\n",
       "  </thead>\n",
       "  <tbody>\n",
       "    <tr>\n",
       "      <th>count</th>\n",
       "      <td>19997.000000</td>\n",
       "    </tr>\n",
       "    <tr>\n",
       "      <th>mean</th>\n",
       "      <td>9998.000000</td>\n",
       "    </tr>\n",
       "    <tr>\n",
       "      <th>std</th>\n",
       "      <td>5772.781002</td>\n",
       "    </tr>\n",
       "    <tr>\n",
       "      <th>min</th>\n",
       "      <td>0.000000</td>\n",
       "    </tr>\n",
       "    <tr>\n",
       "      <th>25%</th>\n",
       "      <td>4999.000000</td>\n",
       "    </tr>\n",
       "    <tr>\n",
       "      <th>50%</th>\n",
       "      <td>9998.000000</td>\n",
       "    </tr>\n",
       "    <tr>\n",
       "      <th>75%</th>\n",
       "      <td>14997.000000</td>\n",
       "    </tr>\n",
       "    <tr>\n",
       "      <th>max</th>\n",
       "      <td>19996.000000</td>\n",
       "    </tr>\n",
       "  </tbody>\n",
       "</table>\n",
       "</div>"
      ],
      "text/plain": [
       "         Unnamed: 0\n",
       "count  19997.000000\n",
       "mean    9998.000000\n",
       "std     5772.781002\n",
       "min        0.000000\n",
       "25%     4999.000000\n",
       "50%     9998.000000\n",
       "75%    14997.000000\n",
       "max    19996.000000"
      ]
     },
     "execution_count": 23,
     "metadata": {},
     "output_type": "execute_result"
    }
   ],
   "source": [
    "data.describe()"
   ]
  },
  {
   "cell_type": "code",
   "execution_count": 24,
   "id": "66dd73ea-b141-4c24-94b4-7a1c2f183dd0",
   "metadata": {},
   "outputs": [
    {
     "data": {
      "text/plain": [
       "Unnamed: 0    0\n",
       "Data          0\n",
       "Labels        0\n",
       "dtype: int64"
      ]
     },
     "execution_count": 24,
     "metadata": {},
     "output_type": "execute_result"
    }
   ],
   "source": [
    "data.isnull().sum()"
   ]
  },
  {
   "cell_type": "code",
   "execution_count": 6,
   "id": "78f6bc08-be87-4753-ae5e-4f2fbfa0993b",
   "metadata": {},
   "outputs": [
    {
     "data": {
      "text/html": [
       "<div>\n",
       "<style scoped>\n",
       "    .dataframe tbody tr th:only-of-type {\n",
       "        vertical-align: middle;\n",
       "    }\n",
       "\n",
       "    .dataframe tbody tr th {\n",
       "        vertical-align: top;\n",
       "    }\n",
       "\n",
       "    .dataframe thead th {\n",
       "        text-align: right;\n",
       "    }\n",
       "</style>\n",
       "<table border=\"1\" class=\"dataframe\">\n",
       "  <thead>\n",
       "    <tr style=\"text-align: right;\">\n",
       "      <th></th>\n",
       "      <th>Unnamed: 0</th>\n",
       "      <th>Data</th>\n",
       "      <th>Labels</th>\n",
       "    </tr>\n",
       "  </thead>\n",
       "  <tbody>\n",
       "  </tbody>\n",
       "</table>\n",
       "</div>"
      ],
      "text/plain": [
       "Empty DataFrame\n",
       "Columns: [Unnamed: 0, Data, Labels]\n",
       "Index: []"
      ]
     },
     "execution_count": 6,
     "metadata": {},
     "output_type": "execute_result"
    }
   ],
   "source": [
    "data[data.duplicated()]"
   ]
  },
  {
   "cell_type": "code",
   "execution_count": 25,
   "id": "800cf567-51d8-4f64-a332-155f6a8f7fe1",
   "metadata": {},
   "outputs": [
    {
     "data": {
      "text/html": [
       "<div>\n",
       "<style scoped>\n",
       "    .dataframe tbody tr th:only-of-type {\n",
       "        vertical-align: middle;\n",
       "    }\n",
       "\n",
       "    .dataframe tbody tr th {\n",
       "        vertical-align: top;\n",
       "    }\n",
       "\n",
       "    .dataframe thead th {\n",
       "        text-align: right;\n",
       "    }\n",
       "</style>\n",
       "<table border=\"1\" class=\"dataframe\">\n",
       "  <thead>\n",
       "    <tr style=\"text-align: right;\">\n",
       "      <th></th>\n",
       "      <th>Unnamed: 0</th>\n",
       "      <th>Data</th>\n",
       "      <th>Labels</th>\n",
       "    </tr>\n",
       "  </thead>\n",
       "  <tbody>\n",
       "    <tr>\n",
       "      <th>0</th>\n",
       "      <td>0</td>\n",
       "      <td>Xref: cantaloupe.srv.cs.cmu.edu alt.atheism:49...</td>\n",
       "      <td>alt.atheism</td>\n",
       "    </tr>\n",
       "    <tr>\n",
       "      <th>1</th>\n",
       "      <td>1</td>\n",
       "      <td>Xref: cantaloupe.srv.cs.cmu.edu alt.atheism:51...</td>\n",
       "      <td>alt.atheism</td>\n",
       "    </tr>\n",
       "    <tr>\n",
       "      <th>2</th>\n",
       "      <td>2</td>\n",
       "      <td>Newsgroups: alt.atheism\\nPath: cantaloupe.srv....</td>\n",
       "      <td>alt.atheism</td>\n",
       "    </tr>\n",
       "    <tr>\n",
       "      <th>3</th>\n",
       "      <td>3</td>\n",
       "      <td>Xref: cantaloupe.srv.cs.cmu.edu alt.atheism:51...</td>\n",
       "      <td>alt.atheism</td>\n",
       "    </tr>\n",
       "    <tr>\n",
       "      <th>4</th>\n",
       "      <td>4</td>\n",
       "      <td>Xref: cantaloupe.srv.cs.cmu.edu alt.atheism:51...</td>\n",
       "      <td>alt.atheism</td>\n",
       "    </tr>\n",
       "    <tr>\n",
       "      <th>...</th>\n",
       "      <td>...</td>\n",
       "      <td>...</td>\n",
       "      <td>...</td>\n",
       "    </tr>\n",
       "    <tr>\n",
       "      <th>19992</th>\n",
       "      <td>19992</td>\n",
       "      <td>Xref: cantaloupe.srv.cs.cmu.edu alt.atheism:54...</td>\n",
       "      <td>talk.religion.misc</td>\n",
       "    </tr>\n",
       "    <tr>\n",
       "      <th>19993</th>\n",
       "      <td>19993</td>\n",
       "      <td>Xref: cantaloupe.srv.cs.cmu.edu alt.atheism:54...</td>\n",
       "      <td>talk.religion.misc</td>\n",
       "    </tr>\n",
       "    <tr>\n",
       "      <th>19994</th>\n",
       "      <td>19994</td>\n",
       "      <td>Xref: cantaloupe.srv.cs.cmu.edu talk.religion....</td>\n",
       "      <td>talk.religion.misc</td>\n",
       "    </tr>\n",
       "    <tr>\n",
       "      <th>19995</th>\n",
       "      <td>19995</td>\n",
       "      <td>Xref: cantaloupe.srv.cs.cmu.edu talk.religion....</td>\n",
       "      <td>talk.religion.misc</td>\n",
       "    </tr>\n",
       "    <tr>\n",
       "      <th>19996</th>\n",
       "      <td>19996</td>\n",
       "      <td>Xref: cantaloupe.srv.cs.cmu.edu talk.abortion:...</td>\n",
       "      <td>talk.religion.misc</td>\n",
       "    </tr>\n",
       "  </tbody>\n",
       "</table>\n",
       "<p>19997 rows × 3 columns</p>\n",
       "</div>"
      ],
      "text/plain": [
       "       Unnamed: 0                                               Data  \\\n",
       "0               0  Xref: cantaloupe.srv.cs.cmu.edu alt.atheism:49...   \n",
       "1               1  Xref: cantaloupe.srv.cs.cmu.edu alt.atheism:51...   \n",
       "2               2  Newsgroups: alt.atheism\\nPath: cantaloupe.srv....   \n",
       "3               3  Xref: cantaloupe.srv.cs.cmu.edu alt.atheism:51...   \n",
       "4               4  Xref: cantaloupe.srv.cs.cmu.edu alt.atheism:51...   \n",
       "...           ...                                                ...   \n",
       "19992       19992  Xref: cantaloupe.srv.cs.cmu.edu alt.atheism:54...   \n",
       "19993       19993  Xref: cantaloupe.srv.cs.cmu.edu alt.atheism:54...   \n",
       "19994       19994  Xref: cantaloupe.srv.cs.cmu.edu talk.religion....   \n",
       "19995       19995  Xref: cantaloupe.srv.cs.cmu.edu talk.religion....   \n",
       "19996       19996  Xref: cantaloupe.srv.cs.cmu.edu talk.abortion:...   \n",
       "\n",
       "                   Labels  \n",
       "0             alt.atheism  \n",
       "1             alt.atheism  \n",
       "2             alt.atheism  \n",
       "3             alt.atheism  \n",
       "4             alt.atheism  \n",
       "...                   ...  \n",
       "19992  talk.religion.misc  \n",
       "19993  talk.religion.misc  \n",
       "19994  talk.religion.misc  \n",
       "19995  talk.religion.misc  \n",
       "19996  talk.religion.misc  \n",
       "\n",
       "[19997 rows x 3 columns]"
      ]
     },
     "execution_count": 25,
     "metadata": {},
     "output_type": "execute_result"
    }
   ],
   "source": [
    "data.drop_duplicates()"
   ]
  },
  {
   "cell_type": "code",
   "execution_count": 26,
   "id": "bc04791c-48d1-49bf-92ae-003f77a9b34f",
   "metadata": {},
   "outputs": [],
   "source": [
    "data.drop(['Unnamed: 0'],axis=1,inplace=True)"
   ]
  },
  {
   "cell_type": "code",
   "execution_count": 29,
   "id": "e9d4c6fe-1985-454e-91ef-c35e9e3fe991",
   "metadata": {},
   "outputs": [
    {
     "name": "stdout",
     "output_type": "stream",
     "text": [
      "Requirement already satisfied: pandas in c:\\users\\administrator\\anaconda3\\lib\\site-packages (2.1.4)\n",
      "Collecting textblob\n",
      "  Downloading textblob-0.18.0.post0-py3-none-any.whl.metadata (4.5 kB)\n",
      "Requirement already satisfied: numpy<2,>=1.23.2 in c:\\users\\administrator\\anaconda3\\lib\\site-packages (from pandas) (1.24.3)\n",
      "Requirement already satisfied: python-dateutil>=2.8.2 in c:\\users\\administrator\\anaconda3\\lib\\site-packages (from pandas) (2.8.2)\n",
      "Requirement already satisfied: pytz>=2020.1 in c:\\users\\administrator\\anaconda3\\lib\\site-packages (from pandas) (2023.3.post1)\n",
      "Requirement already satisfied: tzdata>=2022.1 in c:\\users\\administrator\\anaconda3\\lib\\site-packages (from pandas) (2023.3)\n",
      "Requirement already satisfied: nltk>=3.8 in c:\\users\\administrator\\anaconda3\\lib\\site-packages (from textblob) (3.8.1)\n",
      "Requirement already satisfied: click in c:\\users\\administrator\\anaconda3\\lib\\site-packages (from nltk>=3.8->textblob) (8.1.7)\n",
      "Requirement already satisfied: joblib in c:\\users\\administrator\\anaconda3\\lib\\site-packages (from nltk>=3.8->textblob) (1.2.0)\n",
      "Requirement already satisfied: regex>=2021.8.3 in c:\\users\\administrator\\anaconda3\\lib\\site-packages (from nltk>=3.8->textblob) (2023.10.3)\n",
      "Requirement already satisfied: tqdm in c:\\users\\administrator\\anaconda3\\lib\\site-packages (from nltk>=3.8->textblob) (4.65.0)\n",
      "Requirement already satisfied: six>=1.5 in c:\\users\\administrator\\anaconda3\\lib\\site-packages (from python-dateutil>=2.8.2->pandas) (1.16.0)\n",
      "Requirement already satisfied: colorama in c:\\users\\administrator\\anaconda3\\lib\\site-packages (from click->nltk>=3.8->textblob) (0.4.6)\n",
      "Downloading textblob-0.18.0.post0-py3-none-any.whl (626 kB)\n",
      "   ---------------------------------------- 0.0/626.3 kB ? eta -:--:--\n",
      "    --------------------------------------- 10.2/626.3 kB ? eta -:--:--\n",
      "   - ------------------------------------- 20.5/626.3 kB 330.3 kB/s eta 0:00:02\n",
      "   ---- ---------------------------------- 71.7/626.3 kB 660.6 kB/s eta 0:00:01\n",
      "   -------- ----------------------------- 143.4/626.3 kB 950.9 kB/s eta 0:00:01\n",
      "   ------------ --------------------------- 194.6/626.3 kB 1.1 MB/s eta 0:00:01\n",
      "   ----------------- ---------------------- 276.5/626.3 kB 1.1 MB/s eta 0:00:01\n",
      "   ----------------------- ---------------- 368.6/626.3 kB 1.3 MB/s eta 0:00:01\n",
      "   -------------------------------- ------- 501.8/626.3 kB 1.5 MB/s eta 0:00:01\n",
      "   ---------------------------------------  624.6/626.3 kB 1.6 MB/s eta 0:00:01\n",
      "   ---------------------------------------- 626.3/626.3 kB 1.6 MB/s eta 0:00:00\n",
      "Installing collected packages: textblob\n",
      "Successfully installed textblob-0.18.0.post0\n",
      "Note: you may need to restart the kernel to use updated packages.\n"
     ]
    }
   ],
   "source": [
    "pip install pandas textblob"
   ]
  },
  {
   "cell_type": "code",
   "execution_count": 34,
   "id": "bf8aeb62-b9cf-467f-bbad-30a38f1e1afb",
   "metadata": {},
   "outputs": [
    {
     "data": {
      "text/plain": [
       "0        xref cantaloupesrvcscmuedu altatheism49960 alt...\n",
       "1        xref cantaloupesrvcscmuedu altatheism51060 alt...\n",
       "2        newsgroups altatheism path cantaloupesrvcscmue...\n",
       "3        xref cantaloupesrvcscmuedu altatheism51120 alt...\n",
       "4        xref cantaloupesrvcscmuedu altatheism51121 soc...\n",
       "                               ...                        \n",
       "19992    xref cantaloupesrvcscmuedu altatheism54482 tal...\n",
       "19993    xref cantaloupesrvcscmuedu altatheism54485 tal...\n",
       "19994    xref cantaloupesrvcscmuedu talkreligionmisc845...\n",
       "19995    xref cantaloupesrvcscmuedu talkreligionmisc845...\n",
       "19996    xref cantaloupesrvcscmuedu talkabortion121820 ...\n",
       "Name: cleaned_text, Length: 19997, dtype: object"
      ]
     },
     "execution_count": 34,
     "metadata": {},
     "output_type": "execute_result"
    }
   ],
   "source": [
    "# Function to clean text\n",
    "def preprocess_text(text):\n",
    "    text = text.lower()  # Convert to lowercase\n",
    "    text = text.translate(str.maketrans('', '', string.punctuation))  # Remove punctuation\n",
    "    tokens = word_tokenize(text)  # Tokenize the text\n",
    "    stop_words = set(stopwords.words('english'))  # Load stopwords\n",
    "    filtered_tokens = [word for word in tokens if word not in stop_words]  # Remove stopwords\n",
    "    return ' '.join(filtered_tokens)\n",
    "\n",
    "# Apply preprocessing\n",
    "data['cleaned_text'] = data['Data'].apply(preprocess_text)\n",
    "data['cleaned_text']"
   ]
  },
  {
   "cell_type": "code",
   "execution_count": 35,
   "id": "853403c4-e578-4286-8b05-6023a2d45425",
   "metadata": {},
   "outputs": [],
   "source": [
    "from textblob import TextBlob\n",
    "\n",
    "# Function to get sentiment\n",
    "def get_sentiment(text):\n",
    "    analysis = TextBlob(text)\n",
    "    if analysis.sentiment.polarity > 0:\n",
    "        return 'positive'\n",
    "    elif analysis.sentiment.polarity == 0:\n",
    "        return 'neutral'\n",
    "    else:\n",
    "        return 'negative'\n",
    "\n",
    "# Apply sentiment analysis\n",
    "data['sentiment'] = data['cleaned_text'].apply(get_sentiment)"
   ]
  },
  {
   "cell_type": "code",
   "execution_count": 36,
   "id": "7c083dc8-9837-4cbe-8b41-73e4ce9ec742",
   "metadata": {},
   "outputs": [
    {
     "name": "stdout",
     "output_type": "stream",
     "text": [
      "sentiment\n",
      "positive    14255\n",
      "negative     5724\n",
      "neutral        18\n",
      "Name: count, dtype: int64\n"
     ]
    }
   ],
   "source": [
    "# Display sentiment distribution\n",
    "print(data['sentiment'].value_counts())"
   ]
  },
  {
   "cell_type": "code",
   "execution_count": 40,
   "id": "0e4490f7-043b-49bc-a701-53baa055987c",
   "metadata": {},
   "outputs": [
    {
     "data": {
      "text/html": [
       "<div>\n",
       "<style scoped>\n",
       "    .dataframe tbody tr th:only-of-type {\n",
       "        vertical-align: middle;\n",
       "    }\n",
       "\n",
       "    .dataframe tbody tr th {\n",
       "        vertical-align: top;\n",
       "    }\n",
       "\n",
       "    .dataframe thead th {\n",
       "        text-align: right;\n",
       "    }\n",
       "</style>\n",
       "<table border=\"1\" class=\"dataframe\">\n",
       "  <thead>\n",
       "    <tr style=\"text-align: right;\">\n",
       "      <th></th>\n",
       "      <th>Data</th>\n",
       "      <th>Labels</th>\n",
       "      <th>cleaned_text</th>\n",
       "      <th>sentiment</th>\n",
       "    </tr>\n",
       "  </thead>\n",
       "  <tbody>\n",
       "    <tr>\n",
       "      <th>0</th>\n",
       "      <td>Xref: cantaloupe.srv.cs.cmu.edu alt.atheism:49...</td>\n",
       "      <td>alt.atheism</td>\n",
       "      <td>xref cantaloupesrvcscmuedu altatheism49960 alt...</td>\n",
       "      <td>positive</td>\n",
       "    </tr>\n",
       "    <tr>\n",
       "      <th>1</th>\n",
       "      <td>Xref: cantaloupe.srv.cs.cmu.edu alt.atheism:51...</td>\n",
       "      <td>alt.atheism</td>\n",
       "      <td>xref cantaloupesrvcscmuedu altatheism51060 alt...</td>\n",
       "      <td>positive</td>\n",
       "    </tr>\n",
       "    <tr>\n",
       "      <th>2</th>\n",
       "      <td>Newsgroups: alt.atheism\\nPath: cantaloupe.srv....</td>\n",
       "      <td>alt.atheism</td>\n",
       "      <td>newsgroups altatheism path cantaloupesrvcscmue...</td>\n",
       "      <td>positive</td>\n",
       "    </tr>\n",
       "    <tr>\n",
       "      <th>3</th>\n",
       "      <td>Xref: cantaloupe.srv.cs.cmu.edu alt.atheism:51...</td>\n",
       "      <td>alt.atheism</td>\n",
       "      <td>xref cantaloupesrvcscmuedu altatheism51120 alt...</td>\n",
       "      <td>negative</td>\n",
       "    </tr>\n",
       "    <tr>\n",
       "      <th>4</th>\n",
       "      <td>Xref: cantaloupe.srv.cs.cmu.edu alt.atheism:51...</td>\n",
       "      <td>alt.atheism</td>\n",
       "      <td>xref cantaloupesrvcscmuedu altatheism51121 soc...</td>\n",
       "      <td>negative</td>\n",
       "    </tr>\n",
       "    <tr>\n",
       "      <th>...</th>\n",
       "      <td>...</td>\n",
       "      <td>...</td>\n",
       "      <td>...</td>\n",
       "      <td>...</td>\n",
       "    </tr>\n",
       "    <tr>\n",
       "      <th>19992</th>\n",
       "      <td>Xref: cantaloupe.srv.cs.cmu.edu alt.atheism:54...</td>\n",
       "      <td>talk.religion.misc</td>\n",
       "      <td>xref cantaloupesrvcscmuedu altatheism54482 tal...</td>\n",
       "      <td>positive</td>\n",
       "    </tr>\n",
       "    <tr>\n",
       "      <th>19993</th>\n",
       "      <td>Xref: cantaloupe.srv.cs.cmu.edu alt.atheism:54...</td>\n",
       "      <td>talk.religion.misc</td>\n",
       "      <td>xref cantaloupesrvcscmuedu altatheism54485 tal...</td>\n",
       "      <td>positive</td>\n",
       "    </tr>\n",
       "    <tr>\n",
       "      <th>19994</th>\n",
       "      <td>Xref: cantaloupe.srv.cs.cmu.edu talk.religion....</td>\n",
       "      <td>talk.religion.misc</td>\n",
       "      <td>xref cantaloupesrvcscmuedu talkreligionmisc845...</td>\n",
       "      <td>positive</td>\n",
       "    </tr>\n",
       "    <tr>\n",
       "      <th>19995</th>\n",
       "      <td>Xref: cantaloupe.srv.cs.cmu.edu talk.religion....</td>\n",
       "      <td>talk.religion.misc</td>\n",
       "      <td>xref cantaloupesrvcscmuedu talkreligionmisc845...</td>\n",
       "      <td>positive</td>\n",
       "    </tr>\n",
       "    <tr>\n",
       "      <th>19996</th>\n",
       "      <td>Xref: cantaloupe.srv.cs.cmu.edu talk.abortion:...</td>\n",
       "      <td>talk.religion.misc</td>\n",
       "      <td>xref cantaloupesrvcscmuedu talkabortion121820 ...</td>\n",
       "      <td>positive</td>\n",
       "    </tr>\n",
       "  </tbody>\n",
       "</table>\n",
       "<p>19997 rows × 4 columns</p>\n",
       "</div>"
      ],
      "text/plain": [
       "                                                    Data              Labels  \\\n",
       "0      Xref: cantaloupe.srv.cs.cmu.edu alt.atheism:49...         alt.atheism   \n",
       "1      Xref: cantaloupe.srv.cs.cmu.edu alt.atheism:51...         alt.atheism   \n",
       "2      Newsgroups: alt.atheism\\nPath: cantaloupe.srv....         alt.atheism   \n",
       "3      Xref: cantaloupe.srv.cs.cmu.edu alt.atheism:51...         alt.atheism   \n",
       "4      Xref: cantaloupe.srv.cs.cmu.edu alt.atheism:51...         alt.atheism   \n",
       "...                                                  ...                 ...   \n",
       "19992  Xref: cantaloupe.srv.cs.cmu.edu alt.atheism:54...  talk.religion.misc   \n",
       "19993  Xref: cantaloupe.srv.cs.cmu.edu alt.atheism:54...  talk.religion.misc   \n",
       "19994  Xref: cantaloupe.srv.cs.cmu.edu talk.religion....  talk.religion.misc   \n",
       "19995  Xref: cantaloupe.srv.cs.cmu.edu talk.religion....  talk.religion.misc   \n",
       "19996  Xref: cantaloupe.srv.cs.cmu.edu talk.abortion:...  talk.religion.misc   \n",
       "\n",
       "                                            cleaned_text sentiment  \n",
       "0      xref cantaloupesrvcscmuedu altatheism49960 alt...  positive  \n",
       "1      xref cantaloupesrvcscmuedu altatheism51060 alt...  positive  \n",
       "2      newsgroups altatheism path cantaloupesrvcscmue...  positive  \n",
       "3      xref cantaloupesrvcscmuedu altatheism51120 alt...  negative  \n",
       "4      xref cantaloupesrvcscmuedu altatheism51121 soc...  negative  \n",
       "...                                                  ...       ...  \n",
       "19992  xref cantaloupesrvcscmuedu altatheism54482 tal...  positive  \n",
       "19993  xref cantaloupesrvcscmuedu altatheism54485 tal...  positive  \n",
       "19994  xref cantaloupesrvcscmuedu talkreligionmisc845...  positive  \n",
       "19995  xref cantaloupesrvcscmuedu talkreligionmisc845...  positive  \n",
       "19996  xref cantaloupesrvcscmuedu talkabortion121820 ...  positive  \n",
       "\n",
       "[19997 rows x 4 columns]"
      ]
     },
     "execution_count": 40,
     "metadata": {},
     "output_type": "execute_result"
    }
   ],
   "source": [
    "data"
   ]
  },
  {
   "cell_type": "code",
   "execution_count": 37,
   "id": "27cfccb4-4063-4c00-8ea1-c1897652e3c6",
   "metadata": {},
   "outputs": [
    {
     "data": {
      "text/plain": [
       "<Axes: xlabel='sentiment', ylabel='count'>"
      ]
     },
     "execution_count": 37,
     "metadata": {},
     "output_type": "execute_result"
    },
    {
     "data": {
      "image/png": "[encoded data removed]",
      "text/plain": [
       "<Figure size 640x480 with 1 Axes>"
      ]
     },
     "metadata": {},
     "output_type": "display_data"
    }
   ],
   "source": [
    "sns.countplot(x='sentiment',data=data)"
   ]
  },
  {
   "cell_type": "code",
   "execution_count": 39,
   "id": "83f56770-520d-4e95-831c-a65921e19dba",
   "metadata": {},
   "outputs": [],
   "source": [
    "# Separate features (X) and target (y)\n",
    "x = data['Data'].astype(str)  # Features: review_text column\n",
    "y = data['Labels']                # Target: sentiment column"
   ]
  },
  {
   "cell_type": "markdown",
   "id": "d9141c97-f8f7-48a0-b547-8d6d887168d2",
   "metadata": {},
   "source": [
    "2. Naive Bayes Model for Text Classification"
   ]
  },
  {
   "cell_type": "code",
   "execution_count": 40,
   "id": "5446dc05-259d-46b9-9994-ba6ffc8753d2",
   "metadata": {},
   "outputs": [],
   "source": [
    "# Split the dataset into training and testing sets (80% train, 20% test)\n",
    "x_train, x_test, y_train, y_test = train_test_split(x, y, test_size=0.2, random_state=42)"
   ]
  },
  {
   "cell_type": "code",
   "execution_count": null,
   "id": "9275d8ef-abd2-4580-9540-c2803900f1a4",
   "metadata": {},
   "outputs": [],
   "source": [
    "# Initialize TF-IDF Vectorizer\n",
    "vectorizer = TfidfVectorizer()\n",
    "\n",
    "# Fit and transform the training data\n",
    "x_train = vectorizer.fit_transform(x_train)\n",
    "\n",
    "# Transform the test data\n",
    "x_test= vectorizer.transform(x_test)"
   ]
  },
  {
   "cell_type": "code",
   "execution_count": null,
   "id": "abb2bbea-85c3-4916-ac80-4e4940816e14",
   "metadata": {},
   "outputs": [],
   "source": [
    "# Initialize Naive Bayes classifier\n",
    "nb_classifier = MultinomialNB()\n",
    "\n",
    "# Train the classifier\n",
    "nb_classifier.fit(x_train,y_train)\n"
   ]
  },
  {
   "cell_type": "markdown",
   "id": "384dffbd-ce74-464c-956e-781e8ea5c8e4",
   "metadata": {},
   "source": [
    "4. Evaluation"
   ]
  },
  {
   "cell_type": "code",
   "execution_count": 38,
   "id": "495b989e-c1a6-4903-9950-f7f7aebe90ca",
   "metadata": {},
   "outputs": [
    {
     "name": "stdout",
     "output_type": "stream",
     "text": [
      "0.89175\n",
      "\n",
      "Classification Report:\n",
      "                          precision    recall  f1-score   support\n",
      "\n",
      "             alt.atheism       0.78      0.82      0.80       173\n",
      "           comp.graphics       0.85      0.87      0.86       179\n",
      " comp.os.ms-windows.misc       0.95      0.90      0.92       226\n",
      "comp.sys.ibm.pc.hardware       0.86      0.87      0.86       204\n",
      "   comp.sys.mac.hardware       0.90      0.96      0.93       205\n",
      "          comp.windows.x       0.94      0.90      0.92       186\n",
      "            misc.forsale       0.91      0.81      0.86       190\n",
      "               rec.autos       0.86      0.93      0.89       203\n",
      "         rec.motorcycles       0.99      0.94      0.96       218\n",
      "      rec.sport.baseball       0.97      0.94      0.96       192\n",
      "        rec.sport.hockey       0.95      0.97      0.96       203\n",
      "               sci.crypt       0.92      0.98      0.95       200\n",
      "         sci.electronics       0.94      0.81      0.87       227\n",
      "                 sci.med       0.99      0.92      0.95       196\n",
      "               sci.space       0.93      0.96      0.94       205\n",
      "  soc.religion.christian       0.90      1.00      0.95       215\n",
      "      talk.politics.guns       0.83      0.93      0.88       205\n",
      "   talk.politics.mideast       0.93      0.94      0.94       197\n",
      "      talk.politics.misc       0.76      0.74      0.75       200\n",
      "      talk.religion.misc       0.63      0.59      0.61       176\n",
      "\n",
      "                accuracy                           0.89      4000\n",
      "               macro avg       0.89      0.89      0.89      4000\n",
      "            weighted avg       0.89      0.89      0.89      4000\n",
      "\n",
      "\n",
      "Confusion Matrix:\n",
      "[[142   0   0   0   0   0   0   0   0   0   0   1   1   0   0   4   1   0\n",
      "    0  24]\n",
      " [  0 155   1   3   1   5   3   0   0   1   1   0   2   0   2   1   0   0\n",
      "    2   2]\n",
      " [  0   5 203  14   0   2   0   1   0   0   0   0   0   0   0   0   1   0\n",
      "    0   0]\n",
      " [  1   3   4 177   9   2   5   0   0   0   1   0   1   0   0   0   0   0\n",
      "    0   1]\n",
      " [  1   0   1   2 197   0   0   0   0   1   0   1   0   0   0   0   1   0\n",
      "    1   0]\n",
      " [  1   8   3   1   2 168   0   0   1   0   0   1   0   0   1   0   0   0\n",
      "    0   0]\n",
      " [  2   1   0   5   1   0 154  11   0   0   4   2   2   0   1   0   2   0\n",
      "    3   2]\n",
      " [  1   1   0   0   2   0   4 189   0   0   0   0   2   0   0   0   2   0\n",
      "    1   1]\n",
      " [  0   0   0   1   0   0   2   9 204   0   0   1   0   0   0   0   0   0\n",
      "    1   0]\n",
      " [  1   0   0   0   0   1   0   2   2 181   3   0   1   0   1   0   0   0\n",
      "    0   0]\n",
      " [  0   1   0   1   0   0   0   0   0   1 197   0   0   0   0   1   2   0\n",
      "    0   0]\n",
      " [  0   0   0   0   0   0   0   0   0   1   0 197   1   0   0   0   0   0\n",
      "    1   0]\n",
      " [  0   1   0   3   7   0   1   8   0   0   0   9 185   1   6   0   3   0\n",
      "    2   1]\n",
      " [  0   5   0   0   0   0   0   0   0   1   1   0   1 180   1   2   2   2\n",
      "    0   1]\n",
      " [  0   3   0   0   1   0   0   0   0   0   0   1   0   0 196   1   1   0\n",
      "    0   2]\n",
      " [  0   0   0   0   0   0   0   0   0   0   0   0   0   0   0 215   0   0\n",
      "    0   0]\n",
      " [  0   0   1   0   0   0   0   0   0   0   0   1   0   0   0   0 190   0\n",
      "   10   3]\n",
      " [  0   0   0   0   0   0   0   0   0   0   0   0   0   0   0   3   0 185\n",
      "    9   0]\n",
      " [  1   0   0   0   0   0   0   0   0   0   1   0   0   0   2   0  17   8\n",
      "  148  23]\n",
      " [ 31   0   0   0   0   0   0   0   0   0   0   0   0   0   1  13   6   3\n",
      "   18 104]]\n"
     ]
    }
   ],
   "source": [
    "# Predict sentiment on the test set\n",
    "y_pred = nb_classifier.predict(x_test)\n",
    "\n",
    "# Calculate accuracy\n",
    "accuracy = accuracy_score(y_test, y_pred)\n",
    "print(accuracy)\n",
    "\n",
    "# Print classification report\n",
    "print(\"\\nClassification Report:\")\n",
    "print(classification_report(y_test, y_pred))\n",
    "\n",
    "# Print confusion matrix\n",
    "print(\"\\nConfusion Matrix:\")\n",
    "print(confusion_matrix(y_test, y_pred))\n"
   ]
  },
  {
   "cell_type": "markdown",
   "id": "36e8d23c-a29e-4e8c-bd5f-01cd442a2046",
   "metadata": {},
   "source": [
    "In conclusion, the Naive Bayes classifier, with proper preprocessing and feature extraction, can effectively categorize blog posts. Performance evaluation using metrics such as accuracy, precision, recall, and F1-score provides a comprehensive view of the model’s effectiveness. Challenges such as class imbalance and text preprocessing need careful handling to ensure robust performance.\n",
    "\n",
    "Sentiment analysis adds another layer of understanding, revealing the emotional tone of the blog posts. These insights can be crucial for content strategy, reader engagement, and marketing efforts.\n",
    "\n",
    "By combining text classification with sentiment analysis, you gain a powerful toolkit for extracting and leveraging insights from textual data, enhancing both the analytical and strategic capabilities of your organization."
   ]
  }
 ],
 "metadata": {
  "kernelspec": {
   "display_name": "Python 3 (ipykernel)",
   "language": "python",
   "name": "python3"
  },
  "language_info": {
   "codemirror_mode": {
    "name": "ipython",
    "version": 3
   },
   "file_extension": ".py",
   "mimetype": "text/x-python",
   "name": "python",
   "nbconvert_exporter": "python",
   "pygments_lexer": "ipython3",
   "version": "3.11.7"
  }
 },
 "nbformat": 4,
 "nbformat_minor": 5
}
